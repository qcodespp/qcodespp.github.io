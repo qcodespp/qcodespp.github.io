{
 "cells": [
  {
   "cell_type": "markdown",
   "id": "e6137e74",
   "metadata": {},
   "source": [
    "# Example template"
   ]
  },
  {
   "cell_type": "markdown",
   "id": "e86eeb6a",
   "metadata": {},
   "source": [
    "Download this notebook from:\n",
    "https://github.com/qcodespp/qcodespp.github.io/blob/main/docs/source/qcodespp_template.ipynb"
   ]
  },
  {
   "cell_type": "markdown",
   "id": "b0a811c6",
   "metadata": {},
   "source": [
    "## Initialise"
   ]
  },
  {
   "cell_type": "code",
   "execution_count": null,
   "id": "00c5d217-6f76-4cfe-a9a2-9e3549df7e60",
   "metadata": {},
   "outputs": [
    {
     "name": "stdout",
     "output_type": "stream",
     "text": [
      "Instrument IDN: KEITHLEY INSTRUMENTS,MODEL 2450,04613345,1.7.12b\n",
      " VISA Address: TCPIP0::169.254.100.202::inst0::INSTR\n",
      "\n",
      "Cannot access instrument with address ASRL1::INSTR. Likely the instrument is already connected, possibly in another program or ipython kernel.\n",
      "\n",
      "Cannot access instrument with address ASRL3::INSTR. Likely the instrument is already connected, possibly in another program or ipython kernel.\n",
      "\n",
      "Instrument IDN: QDevil, QDAC-II, 159, 13-1.57\n",
      " VISA Address: ASRL9::INSTR\n",
      "\n"
     ]
    }
   ],
   "source": [
    "# Optional: check for VISA instruments\n",
    "\n",
    "import qcodespp as qc\n",
    "qc.listVISAinstruments()"
   ]
  },
  {
   "cell_type": "code",
   "execution_count": null,
   "id": "83b7df10-f2d0-428c-85ab-b34c46e6f9aa",
   "metadata": {},
   "outputs": [
    {
     "name": "stdout",
     "output_type": "stream",
     "text": [
      "Connected to: QDevil QDAC-II (serial:159, firmware:13-1.57) in 0.83s\n",
      "Connected to: Zurich Instruments HF2LI (serial:dev1832, hardware:6) as li in 0.04s\n",
      "Connected to: KEITHLEY INSTRUMENTS 2450 (serial:04613345, firmware:1.7.12b) in 0.02s\n"
     ]
    }
   ],
   "source": [
    "# Import packages, instrument drivers, and connect to instruments.\n",
    "\n",
    "import qcodespp as qc\n",
    "import numpy as np\n",
    "import time\n",
    "\n",
    "from qcodespp.instrument_drivers.QDevil.QDAC2 import QDac2\n",
    "from qcodespp.instrument_drivers.ZI.ZIHF2LI import ZIHF2LI\n",
    "from qcodespp.instrument_drivers.tektronix.Keithley_2450 import Keithley_2450\n",
    "\n",
    "qdac = QDac2('qdac','ASRL9::INSTR')\n",
    "li = ZIHF2LI('li','dev1832') # ZI instruments don't use VISA\n",
    "k2450 = Keithley_2450('k2450','TCPIP0::169.254.100.202::inst0::INSTR')"
   ]
  },
  {
   "cell_type": "code",
   "execution_count": null,
   "id": "124ad844-969e-4f45-9248-6d5aee46cdca",
   "metadata": {},
   "outputs": [
    {
     "name": "stdout",
     "output_type": "stream",
     "text": [
      "Automatically adding components to Station...\n",
      "Instruments in station: qdac, li, k2450\n",
      "Parameters in station: timer, stepper, currentX, currentY, voltageX, voltageY, resistance\n"
     ]
    }
   ],
   "source": [
    "# Define custom parameters\n",
    "\n",
    "stepper=qc.Parameter('stepper',label='Stepper',unit='',set_cmd=lambda val: 0)\n",
    "\n",
    "currentX=qc.ScaledParameter(li.demod0_X,gain=1e-6,name='currentX',label='Current',unit='A')\n",
    "currentY=qc.ScaledParameter(li.demod0_Y,gain=1e-6,name='currentY',label='Current',unit='A')\n",
    "voltageX=qc.ScaledParameter(li.demod1_X,gain=1e-3,name='voltageX',label='Voltage',unit='V')\n",
    "voltageY=qc.ScaledParameter(li.demod1_Y,gain=1e-3,name='voltageY',label='Voltage',unit='V')\n",
    "\n",
    "resistance=qc.Parameter('resistance',label='Resistance',unit='Ohm',get_cmd=lambda: voltageX()/currentX())\n",
    "\n",
    "# Tell qcodespp where to store data\n",
    "qc.set_data_folder('data')\n",
    "\n",
    "# Init the station.\n",
    "station=qc.Station(add_variables=globals())"
   ]
  },
  {
   "cell_type": "markdown",
   "id": "b6864d70",
   "metadata": {},
   "source": [
    "## 1D measurements"
   ]
  },
  {
   "cell_type": "code",
   "execution_count": null,
   "id": "0927a67b-2a66-448e-8ab4-a9f391ff6b38",
   "metadata": {},
   "outputs": [
    {
     "name": "stdout",
     "output_type": "stream",
     "text": [
      "Are you sure? Start value for volt.sweep is 0 V but volt()=0.9999981 V\n",
      "python C:\\git\\qcodespp\\qcodespp\\plotting\\RemotePlotClient.py qcodes.plot.899e7ccf0ec842c3866a64ac0ad26aa2 8878 9156\n",
      "DataSetPP:\n",
      "   location = 'data/#045_Device1 qdac_ch01_volt(0 1)V with ACdiv=1e5 DCdiv=1e3 freq=4e+07 Hz_2025-06-13_16-00-00'\n",
      "   <Type>   | <array_id>         | <array.shape>\n",
      "   Setpoint | qdac_ch01_volt_set | (101,)\n",
      "   Measured | currentX           | (101,)\n",
      "   Measured | currentY           | (101,)\n",
      "   Measured | voltageX           | (101,)\n",
      "   Measured | voltageY           | (101,)\n",
      "   Measured | resistance         | (101,)\n",
      "   Measured | timer              | (101,) \n",
      "Estimated time: 12.899286870956422 s, 0.21498811451594035 mins, 0.0035831352419323395 hours\n",
      "Done at: Fri Jun 13 16:00:16 2025\n"
     ]
    }
   ],
   "source": [
    "# 1D loops\n",
    "loop=qc.loop1d(sweep_parameter=qdac.ch01.volt,\n",
    "               start=0,stop=1,num=101,delay=0.03,\n",
    "               device_info='Device1',\n",
    "               instrument_info=f'ACdiv=1e5 DCdiv=1e3 freq={li.osc0_freq():.6g} Hz',\n",
    "               measure=[currentX, currentY, voltageX, voltageY, resistance],\n",
    "               plot=[currentX,voltageX,resistance])"
   ]
  },
  {
   "cell_type": "code",
   "execution_count": null,
   "id": "72c2d501",
   "metadata": {},
   "outputs": [],
   "source": [
    "data=loop.run()"
   ]
  },
  {
   "cell_type": "code",
   "execution_count": null,
   "id": "89701018-a68e-48a1-be3c-1efcc0e5961f",
   "metadata": {},
   "outputs": [
    {
     "name": "stdout",
     "output_type": "stream",
     "text": [
      "Are you sure? Start value for volt.sweep is 0 V but volt()=1.0 V\n",
      "python C:\\git\\qcodespp\\qcodespp\\plotting\\RemotePlotClient.py qcodes.plot.126c8cd213d34a43be7995b7e843b34b 8878 9188\n",
      "DataSetPP:\n",
      "   location = 'data/#045_Device1 k2450_volt(0 1)V with ACdiv=1e5 DCdiv=1e3 freq=4e+07 Hz_2025-06-13_16-00-03'\n",
      "   <Type>   | <array_id>     | <array.shape>\n",
      "   Setpoint | k2450_volt_set | (101,)\n",
      "   Measured | currentX       | (101,)\n",
      "   Measured | currentY       | (101,)\n",
      "   Measured | voltageX       | (101,)\n",
      "   Measured | voltageY       | (101,)\n",
      "   Measured | resistance     | (101,)\n",
      "   Measured | timer          | (101,) \n",
      "Estimated time: 21.359037165641784 s, 0.3559839527606964 mins, 0.00593306587934494 hours\n",
      "Done at: Fri Jun 13 16:00:28 2025\n"
     ]
    }
   ],
   "source": [
    "# 1D loop with a break condition\n",
    "loop=qc.loop1d(sweep_parameter=k2450.volt,\n",
    "               start=0,stop=1,num=101,delay=0.03,\n",
    "               device_info='Device1',\n",
    "               instrument_info=f'ACdiv=1e5 DCdiv=1e3 freq={li.osc0_freq():.6g} Hz',\n",
    "               measure=[qc.BreakIf(lambda: np.abs(k2450.curr())>1e-9), \n",
    "                        currentX, currentY, voltageX, voltageY, resistance],\n",
    "               plot=[currentX,voltageX,resistance])"
   ]
  },
  {
   "cell_type": "code",
   "execution_count": 6,
   "id": "b119fdda-20b3-4feb-aaaf-43919237233b",
   "metadata": {},
   "outputs": [
    {
     "name": "stdout",
     "output_type": "stream",
     "text": [
      "Started at 2025-06-13 16:00:07\n"
     ]
    },
    {
     "data": {
      "application/vnd.jupyter.widget-view+json": {
       "model_id": "5cf5d3f9db374dfd84f98b2d01bb2d1c",
       "version_major": 2,
       "version_minor": 0
      },
      "text/plain": [
       "  0%|          | 0/101 [00:00<?, ?it/s]. Estimated finish time: 1970-01-01 00:00:00+00:00"
      ]
     },
     "metadata": {},
     "output_type": "display_data"
    },
    {
     "name": "stdout",
     "output_type": "stream",
     "text": [
      "DataSetPP:\n",
      "   location = 'data/#045_Device1 k2450_volt(0 1)V with ACdiv=1e5 DCdiv=1e3 freq=4e+07 Hz_2025-06-13_16-00-03'\n",
      "   <Type>   | <array_id>     | <array.shape>\n",
      "   Setpoint | k2450_volt_set | (101,)\n",
      "   Measured | currentX       | (101,)\n",
      "   Measured | currentY       | (101,)\n",
      "   Measured | voltageX       | (101,)\n",
      "   Measured | voltageY       | (101,)\n",
      "   Measured | resistance     | (101,)\n",
      "   Measured | timer          | (101,)\n",
      "Finished at 2025-06-13 16:01:12\n"
     ]
    }
   ],
   "source": [
    "data=loop.run()"
   ]
  },
  {
   "cell_type": "markdown",
   "id": "d2f283b7",
   "metadata": {},
   "source": [
    "## 2D measurements"
   ]
  },
  {
   "cell_type": "code",
   "execution_count": null,
   "id": "95590785-cc35-4d3a-b46a-afc8087c0043",
   "metadata": {},
   "outputs": [
    {
     "name": "stdout",
     "output_type": "stream",
     "text": [
      "Are you sure? Start value for volt.sweep is 0 V but volt()=0.9999981 V\n",
      "Are you sure? Start value for volt.sweep is 0 V but volt()=1.0 V\n",
      "python C:\\git\\qcodespp\\qcodespp\\plotting\\RemotePlotClient.py qcodes.plot.a45bf8a7e7684a84a80eab44fd98e74d 8878 9183\n",
      "DataSetPP:\n",
      "   location = 'data/#046_Device1 k2450_volt(0 1)V qdac_ch01_volt(0 1)V with ACdiv=1e5 DCdiv=1e3 freq=4e+07 Hz_2025-06-13_16-01-12'\n",
      "   <Type>   | <array_id>         | <array.shape>\n",
      "   Setpoint | k2450_volt_set     | (11,)\n",
      "   Setpoint | qdac_ch01_volt_set | (11, 11)\n",
      "   Measured | currentX           | (11, 11)\n",
      "   Measured | currentY           | (11, 11)\n",
      "   Measured | voltageX           | (11, 11)\n",
      "   Measured | voltageY           | (11, 11)\n",
      "   Measured | resistance         | (11, 11)\n",
      "   Measured | timer              | (11, 11) \n",
      "Estimated time: 17.788989906311034 s, 0.2964831651051839 mins, 0.004941386085086399 hours\n",
      "Done at: Fri Jun 13 16:01:33 2025\n"
     ]
    }
   ],
   "source": [
    "# 2D loop\n",
    "loop=qc.loop2d(sweep_parameter=qdac.ch01.volt,\n",
    "                start=0,stop=1,num=11,delay=0.03,\n",
    "                step_parameter=k2450.volt,\n",
    "                step_start=0,step_stop=1,step_num=11,step_delay=0.1,\n",
    "                device_info='Device1',\n",
    "                instrument_info=f'ACdiv=1e5 DCdiv=1e3 freq={li.osc0_freq():.6g} Hz',\n",
    "                measure=[currentX, currentY, voltageX, voltageY, resistance],\n",
    "                plot=[currentX,voltageX,resistance])"
   ]
  },
  {
   "cell_type": "code",
   "execution_count": 8,
   "id": "76a031b8-5b3b-49a0-b841-ba88f7d3cccc",
   "metadata": {},
   "outputs": [
    {
     "name": "stdout",
     "output_type": "stream",
     "text": [
      "Started at 2025-06-13 16:01:15\n"
     ]
    },
    {
     "data": {
      "application/vnd.jupyter.widget-view+json": {
       "model_id": "fdcd75402e404a9484e7514e165f1879",
       "version_major": 2,
       "version_minor": 0
      },
      "text/plain": [
       "  0%|          | 0/11 [00:00<?, ?it/s]. Estimated finish time: 1970-01-01 00:00:00+00:00"
      ]
     },
     "metadata": {},
     "output_type": "display_data"
    },
    {
     "name": "stdout",
     "output_type": "stream",
     "text": [
      "DataSetPP:\n",
      "   location = 'data/#046_Device1 k2450_volt(0 1)V qdac_ch01_volt(0 1)V with ACdiv=1e5 DCdiv=1e3 freq=4e+07 Hz_2025-06-13_16-01-12'\n",
      "   <Type>   | <array_id>         | <array.shape>\n",
      "   Setpoint | k2450_volt_set     | (11,)\n",
      "   Setpoint | qdac_ch01_volt_set | (11, 11)\n",
      "   Measured | currentX           | (11, 11)\n",
      "   Measured | currentY           | (11, 11)\n",
      "   Measured | voltageX           | (11, 11)\n",
      "   Measured | voltageY           | (11, 11)\n",
      "   Measured | resistance         | (11, 11)\n",
      "   Measured | timer              | (11, 11)\n",
      "Finished at 2025-06-13 16:01:31\n"
     ]
    }
   ],
   "source": [
    "data=loop.run()"
   ]
  },
  {
   "cell_type": "code",
   "execution_count": null,
   "id": "3d15b963-395c-48cf-9204-7ee2766239bc",
   "metadata": {},
   "outputs": [
    {
     "name": "stdout",
     "output_type": "stream",
     "text": [
      "Are you sure? Start value for volt.sweep is 0 V but volt()=0.9999981 V\n",
      "Are you sure? Start value for volt.sweep is 0 V but volt()=1.0 V\n",
      "python C:\\git\\qcodespp\\qcodespp\\plotting\\RemotePlotClient.py qcodes.plot.36de52595d6240f5abb9ce9ae11e9055 8878 9123\n",
      "DataSetPP:\n",
      "   location = 'data/#047_Device1 k2450_volt(0 1)V qdac_ch01_volt(0 1)V with ACdiv=1e5 DCdiv=1e3 freq=4e+07 Hz_2025-06-13_16-01-31'\n",
      "   <Type>   | <array_id>           | <array.shape>\n",
      "   Setpoint | k2450_volt_set       | (11,)\n",
      "   Setpoint | qdac_ch01_volt_set_0 | (11, 11)\n",
      "   Measured | currentX_0           | (11, 11)\n",
      "   Measured | currentY_0           | (11, 11)\n",
      "   Measured | voltageX_0           | (11, 11)\n",
      "   Measured | voltageY_0           | (11, 11)\n",
      "   Measured | resistance_0         | (11, 11)\n",
      "   Measured | timer_0              | (11, 11)\n",
      "   Setpoint | qdac_ch01_volt_set_1 | (11, 11)\n",
      "   Measured | currentX_1           | (11, 11)\n",
      "   Measured | currentY_1           | (11, 11)\n",
      "   Measured | voltageX_1           | (11, 11)\n",
      "   Measured | voltageY_1           | (11, 11)\n",
      "   Measured | resistance_1         | (11, 11)\n",
      "   Measured | timer_1              | (11, 11) \n",
      "Estimated time: 32.78186288833618 s, 0.5463643814722696 mins, 0.009106073024537828 hours\n",
      "Done at: Fri Jun 13 16:02:07 2025\n"
     ]
    }
   ],
   "source": [
    "# 2D loops with sweep in both directions.\n",
    "loop=qc.loop2dUD(sweep_parameter=qdac.ch01.volt,\n",
    "                start=0,stop=1,num=11,delay=0.03,\n",
    "                step_parameter=k2450.volt,\n",
    "                step_start=0,step_stop=1,step_num=11,step_delay=0.1,\n",
    "                device_info='Device1',\n",
    "                instrument_info=f'ACdiv=1e5 DCdiv=1e3 freq={li.osc0_freq():.6g} Hz',\n",
    "                measure=[currentX, currentY, voltageX, voltageY, resistance],\n",
    "                plot=[currentX,voltageX,resistance])"
   ]
  },
  {
   "cell_type": "code",
   "execution_count": 10,
   "id": "18ceea71-9f5e-4a73-a88b-ed4fadf77e88",
   "metadata": {},
   "outputs": [
    {
     "name": "stdout",
     "output_type": "stream",
     "text": [
      "Started at 2025-06-13 16:01:34\n"
     ]
    },
    {
     "data": {
      "application/vnd.jupyter.widget-view+json": {
       "model_id": "aa2d011d5d58493b93549d0ed6fbcd02",
       "version_major": 2,
       "version_minor": 0
      },
      "text/plain": [
       "  0%|          | 0/11 [00:00<?, ?it/s]. Estimated finish time: 1970-01-01 00:00:00+00:00"
      ]
     },
     "metadata": {},
     "output_type": "display_data"
    },
    {
     "name": "stdout",
     "output_type": "stream",
     "text": [
      "DataSetPP:\n",
      "   location = 'data/#047_Device1 k2450_volt(0 1)V qdac_ch01_volt(0 1)V with ACdiv=1e5 DCdiv=1e3 freq=4e+07 Hz_2025-06-13_16-01-31'\n",
      "   <Type>   | <array_id>           | <array.shape>\n",
      "   Setpoint | k2450_volt_set       | (11,)\n",
      "   Setpoint | qdac_ch01_volt_set_0 | (11, 11)\n",
      "   Measured | currentX_0           | (11, 11)\n",
      "   Measured | currentY_0           | (11, 11)\n",
      "   Measured | voltageX_0           | (11, 11)\n",
      "   Measured | voltageY_0           | (11, 11)\n",
      "   Measured | resistance_0         | (11, 11)\n",
      "   Measured | timer_0              | (11, 11)\n",
      "   Setpoint | qdac_ch01_volt_set_1 | (11, 11)\n",
      "   Measured | currentX_1           | (11, 11)\n",
      "   Measured | currentY_1           | (11, 11)\n",
      "   Measured | voltageX_1           | (11, 11)\n",
      "   Measured | voltageY_1           | (11, 11)\n",
      "   Measured | resistance_1         | (11, 11)\n",
      "   Measured | timer_1              | (11, 11)\n",
      "Finished at 2025-06-13 16:02:05\n"
     ]
    }
   ],
   "source": [
    "data=loop.run()"
   ]
  },
  {
   "cell_type": "code",
   "execution_count": null,
   "id": "b4655d3c-51bc-41d7-88d9-baee67113467",
   "metadata": {},
   "outputs": [],
   "source": []
  }
 ],
 "metadata": {
  "kernelspec": {
   "display_name": "Python 3 (ipykernel)",
   "language": "python",
   "name": "python3"
  },
  "language_info": {
   "codemirror_mode": {
    "name": "ipython",
    "version": 3
   },
   "file_extension": ".py",
   "mimetype": "text/x-python",
   "name": "python",
   "nbconvert_exporter": "python",
   "pygments_lexer": "ipython3",
   "version": "3.13.5"
  }
 },
 "nbformat": 4,
 "nbformat_minor": 5
}
